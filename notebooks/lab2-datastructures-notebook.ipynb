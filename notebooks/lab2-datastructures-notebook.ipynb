{
 "cells": [
  {
   "cell_type": "markdown",
   "metadata": {},
   "source": [
    "# Lab 2: Data Structures"
   ]
  },
  {
   "cell_type": "markdown",
   "metadata": {},
   "source": [
    "## Investigating Data Structures\n",
    "\n",
    "*[Optional Reading on Standard Types - check out Sequence types and Mapping types](https://docs.python.org/3/library/stdtypes.html)*"
   ]
  },
  {
   "cell_type": "markdown",
   "metadata": {},
   "source": [
    "### Lists\n",
    "Predict what the following lines of Python will do. Then, run the code block below to see if they match what you expect:\n",
    "\n",
    "Quyidagi python kod nma qilishini taxmin qilib ko'ring. Keyin ushbu kodni bitta faylga yozib tekshirib ko'ring, qani taxminingiz to'gri chiqibdimi.\n",
    "\n",
    "```Python\n",
    "s = [0] * 3\n",
    "print(s)\n",
    "s[0] += 1\n",
    "print(s)\n",
    "\n",
    "s = [''] * 3\n",
    "print(s)\n",
    "s[0] += 'a'\n",
    "print(s)\n",
    "\n",
    "s = [[]] * 3\n",
    "print(s)\n",
    "s[0] += [1]\n",
    "print(s)\n",
    "```"
   ]
  },
  {
   "cell_type": "code",
   "execution_count": null,
   "metadata": {},
   "outputs": [],
   "source": [
    "# Explore the elements of lists. Is the output what you expect?\n",
    "# List ning elementlarini o;rganib chiqing. Output(natija) siz kutgandekmi? \n",
    "s = [0] * 3\n",
    "print(s)\n",
    "s[0] += 1\n",
    "print(s)\n",
    "\n",
    "s = [''] * 3\n",
    "print(s)\n",
    "s[0] += 'a'\n",
    "print(s)\n",
    "\n",
    "s = [[]] * 3\n",
    "print(s)\n",
    "s[0] += [1]\n",
    "print(s)"
   ]
  },
  {
   "cell_type": "markdown",
   "metadata": {},
   "source": [
    "### Tuples\n",
    "\n",
    "Write a function to compute the [GCD](https://en.wikipedia.org/wiki/Greatest_common_divisor) of two positive integers. You can freely use the fact that `gcd(a, b)` is mathematically equal to `gcd(b, a % b)`, and that `gcd(a, 0) == a`.\n",
    "\n",
    "Ikki pozitiv sonning EKUB ini hisoblaydigan funksiya yozing. quyidagi matematik faktlarni ishlatishingiz mumkin:\n",
    "\n",
    "`gcd(a, b) == gcd(b, a % b)`\n",
    "\n",
    "`gcd(a, 0) == a`\n",
    "\n",
    "---\n",
    "\n",
    "You can assume that `a >= b` if you'd like.\n",
    "\n",
    "Agar xohlasangiz `a >= b` deb tasavvur qiling.\n",
    "\n",
    "---\n",
    "\n",
    "It is possible to accomplish this in three lines of Python code (or with extra cleverness, even fewer!). Consider exploiting tuple packing and unpacking!\n",
    "\n",
    "Bu masalani 3 qator kod bilan ishlasa ham bo'ladi(balki undan ham kamroq qator kodan). Tuple unpacking va packing\n",
    "`a,b=(3,4)`\n",
    "\n",
    "---\n",
    "\n",
    "*Note: The standard library has a `gcd` function. Avoid simply importing that function and using it here - the goal is to practice with tuple packing and unpacking!*\n",
    "\n",
    "*Eslatma: Python standard library da `gcd` funksiya bor. Uni shunchaki import qilib ishlatmang. - ushbu mashqning maqsadi tuple packing and unpacking*"
   ]
  },
  {
   "cell_type": "code",
   "execution_count": null,
   "metadata": {},
   "outputs": [],
   "source": [
    "def gcd(a, b):\n",
    "    \"\"\"Compute the GCD of two positive integers.\n",
    "    Ikki positiv sonnig EKUBni  hisoblang.\n",
    "    \"\"\"\n",
    "    pass  # Your implementation here\n",
    "    \n",
    "gcd(10, 25) # => 5\n",
    "gcd(14, 15) # => 1\n",
    "gcd(3, 9) # => 3\n",
    "gcd(1, 1) # => 1"
   ]
  },
  {
   "cell_type": "markdown",
   "metadata": {},
   "source": [
    "### Dictionaries\n",
    "\n",
    "dictionary ning key va value larini almashtiradifgan kod:\n",
    "\n",
    "\n",
    "```\n",
    "{value: key for key, value in dictionary.items()}\n",
    "```\n",
    "\n",
    "\n",
    "However, this approach will fail when there are two keys in the dictionary with the same value. Why will it fail?\n",
    "Biroq bu usul dictioanry dagi ikkita value bir xil bo'lganda ishlamay qoladi. Nima sababdan bu usul ishlamaydi?\n",
    "\n",
    "\n",
    "---\n",
    "\n",
    "Write a function that properly reverses the keys and values of a dictionary - each key (originally a value) should map to a collection of values (originally keys) that mapped to it. For example,\n",
    "\n",
    "Dictionaryning key va valuelarini almashtiradigan funksiya yozing - har bir key(aslidagi boshidagi value) valuelar kolleksiyasi(aslida keylar) ga mos tushishi kerak. Masalan,\n",
    "\n",
    "```\n",
    "flip_dict({\"CA\": \"US\", \"NY\": \"US\", \"ON\": \"CA\"})\n",
    "# => {\"US\": [\"CA\", \"NY\"], \"CA\": [\"ON\"]}\n",
    "```\n"
   ]
  },
  {
   "cell_type": "code",
   "execution_count": null,
   "metadata": {},
   "outputs": [],
   "source": [
    "def flip_dict(input_dict):\n",
    "    \"\"\"Reverse the keys and values of a dictionary.\"\"\"\n",
    "    pass"
   ]
  },
  {
   "cell_type": "markdown",
   "metadata": {},
   "source": [
    "### Comprehensions\n",
    "\n",
    "#### Read\n",
    "\n",
    "Predict the output of each of the following list comprehensions. After you have written down your hypothesis, run the code cell to see if you were correct. If you were incorrect, discuss with a partner why Python returns what it does.\n",
    "\n",
    "Quyidfagi har bir kodning natijasini taxmin qilib ko'ring. Taxminlaringizni yozib oling, codini bitta faylga yozib tekshirib ko'ring. Agar taxminingiz to'g;'ri chiqmasa nima sababdan bunday chiqayotganini o'ylab ko'ring.\n",
    "\n",
    "```Python\n",
    "[x for x in [1, 2, 3, 4]]\n",
    "[n - 2 for n in range(10)]\n",
    "[k % 10 for k in range(41) if k % 3 == 0]\n",
    "[s.lower() for s in ['PythOn', 'iS', 'cOoL'] if s[0] < s[-1]]\n",
    "\n",
    "# Something is fishy here. Can you spot it?\n",
    "# Bir qiziq narsa bor. Topa olasizmi?\n",
    "arr = [[3,2,1], ['a','b','c'], [('do',), ['re'], 'mi']]\n",
    "print([el.append(el[0] * 4) for el in arr])  # What is printed? Nima print bo'ladi?\n",
    "print(arr)  # What is the content of `arr` at this point? # Shu joyida arr ning qiymati nim?\n",
    "\n",
    "[letter for letter in \"pYthON\" if letter.isupper()]\n",
    "{len(w) for w in [\"its\", \"the\", \"remix\", \"to\", \"ignition\"]}\n",
    "```"
   ]
  },
  {
   "cell_type": "code",
   "execution_count": null,
   "metadata": {},
   "outputs": [],
   "source": [
    "# Predict the output of the following comprehensions. Does the output match what you expect?\n",
    "print([x for x in [1, 2, 3, 4]])\n",
    "print([n - 2 for n in range(10)])\n",
    "print([k % 10 for k in range(41) if k % 3 == 0])\n",
    "print([s.lower() for s in ['PythOn', 'iS', 'cOoL'] if s[0] < s[-1]])\n",
    "\n",
    "# Something is fishy here. Can you spot it?\n",
    "# Bir qiziq narsa bor. Topa olasizmi?\n",
    "arr = [[3,2,1], ['a','b','c'], [('do',), ['re'], 'mi']]\n",
    "print([el.append(el[0] * 4) for el in arr])  # What is printed? Nima print bo'ladi?\n",
    "print(arr)  # What is the content of `arr` at this point? Shu joyida arr ning qiymati nim?\n",
    "\n",
    "print([letter for letter in \"pYthON\" if letter.isupper()])\n",
    "print({len(w) for w in [\"its\", \"the\", \"remix\", \"to\", \"ignition\"]})"
   ]
  },
  {
   "cell_type": "markdown",
   "metadata": {},
   "source": [
    "#### Write\n",
    "\n",
    "Write comprehensions to transform the input data structure into the output data structure:\n",
    "input data struktursini outputga data strukturasiga o'zgartiradigan comprehension yozing:\n",
    "\n",
    "bitta python faylga yozing.\n",
    "\n",
    "```\n",
    "[0, 1, 2, 3] -> [1, 3, 5, 7]  # Double and add one # 2 ga ko'paytirib 1 ni qoshing\n",
    "['apple', 'orange', 'pear'] -> ['A', 'O', 'P']  # Capitalize first letter # Birinchi harflarini Katta qilib oling\n",
    "['apple', 'orange', 'pear'] -> ['apple', 'pear']  # Contains a 'p' # 'p' qatnashganlarini oling\n",
    "\n",
    "[\"TA_klark\", \"student_gogo\", \"TA_vincent\", \"student_hehe\"] -> [\"klark\", \"vincent\"]\n",
    "['apple', 'orange', 'pear'] -> [('apple', 5), ('orange', 6), ('pear', 4)]\n",
    "\n",
    "['apple', 'orange', 'pear'] -> {'apple': 5, 'orange': 6, 'pear': 4}\n",
    "```"
   ]
  },
  {
   "cell_type": "code",
   "execution_count": null,
   "metadata": {},
   "outputs": [],
   "source": [
    "nums = [1, 3, 5, 7]\n",
    "fruits = ['apple', 'orange', 'pear']\n",
    "people = [\"TA_klark\", \"student_gogo\", \"TA_vincent\", \"student_hehe\"]\n",
    "\n",
    "# Add your comprehensions here!"
   ]
  },
  {
   "cell_type": "markdown",
   "metadata": {},
   "source": [
    "### Pascal's Triangle\n",
    "Write a function that generates the next level of [Pascal's triangle](https://en.wikipedia.org/wiki/Pascal%27s_triangle) given a list that represents a row of Pascal’s triangle.\n",
    "\n",
    "Berilgan paskal qatorini ifodalovchi listdan foydalanib Paskal uchburchagining keyingi bosqichini yaratadigan funksiya yozing. \n",
    "\n",
    "```\n",
    "generate_pascal_row([1, 2, 1]) -> [1, 3, 3, 1]\n",
    "generate_pascal_row([1, 4, 6, 4, 1]) -> [1, 5, 10, 10, 5, 1]\n",
    "generate_pascal_row([]) -> [1]\n",
    "```\n",
    "\n",
    "As a reminder, each element in a row of Pascal's triangle is formed by summing the two elements in the previous row directly above (to the left and right) that elements. If there is only one element directly above, we only add that one. For example, the first 5 rows of Pascal's triangle look like:\n",
    "\n",
    "Eslatma tariqasida, Paskal uchburchagidagi qatorning har bir elementi ozidan oldingi qator dagi ozinig tepasidagi 2 ta elementning yigindisidan iborat.\n",
    "masalan, paskal uchburchagining birinchi 5 qatori quyidagicha:\n",
    "\n",
    "\n",
    "```\n",
    "    1\n",
    "   1 1\n",
    "  1 2 1\n",
    " 1 3 3 1\n",
    "1 4 6 4 1\n",
    "```\n",
    "\n",
    "You may find the `zip` function discussed briefly in lecture useful, along with some cleverness. Alternatively, you could solve this problem with `enumerate`. Avoid using a loop of the form `for i in len(range(row)):`.\n",
    "\n",
    "`zip` yoki `enumerate` funksiyalaridan foydalanishingiz mumkin.\n",
    "\n",
    "*Hint: Check out the diagram below. How could you use this insight to help complete this problem?*\n",
    "*Maslahat: Pastdagi diagrammani ko'ring. Qanday qilib bundan fikrlar mashqni bajarishga yordam beradi.\n",
    "\n",
    "```\n",
    "  0 1 3 3 1\n",
    "+ 1 3 3 1 0\n",
    "-----------\n",
    "  1 4 6 4 1\n",
    "``` "
   ]
  },
  {
   "cell_type": "code",
   "execution_count": null,
   "metadata": {},
   "outputs": [],
   "source": [
    "def generate_pascal_row(row):\n",
    "    \"\"\"Generate the next row of Pascal's triangle.\"\"\"\n",
    "    pass\n",
    "\n",
    "generate_pascal_row([1, 2, 1])  # => [1, 3, 3, 1]\n",
    "generate_pascal_row([1, 4, 6, 4, 1])  # => [1, 5, 10, 10, 5, 1]\n",
    "generate_pascal_row([])  # => [1]"
   ]
  },
  {
   "cell_type": "markdown",
   "metadata": {},
   "source": [
    "#### Pretty Printing Pascal (Optional)\n",
    "\n",
    "Given a number `n`, print out the first `n` rows of Pascal's triangle, centering each line. You should use the `generate_pascal_row` function you  wrote previously. The Pascal's triangle with 1 row just contains the number `1`.\n",
    "\n",
    "Berilga `n` soni uchun, Paskal uchburchagining birinchgi `n` ta qatoriniprint qiling, harbir qatorning o'rtasida. Yuqorida yozgan funksiyangizni ishlatishingiz kerak\n",
    "\n",
    "---\n",
    "\n",
    "To center a string in Python, you can use the `.center(width)` method. For example:\n",
    "\n",
    "python da stringni centerga chiqarish uchun, `.center(width)` metodini ishlatishingiz mumkin. Masalan:\n",
    "\n",
    "\n",
    "```\n",
    "\"FULL\".center(10)  # => '   FULL   ' # jami 10 harf shuni ichida centerda FULL\n",
    "```\n",
    "\n",
    "The hardest part of this problem is determining the width of the bottom row of the triangle. You'll need to generate all rows of the triangle and store them before you can print any of them.\n",
    "\n",
    "Bu mashqning eng qiyin qismi uchburchakning eng pastki  qatori uzunligini topish. Siz uchburchaknin barcha qatorlari print qilishdan olidn ularni yaratishingiz va saqlab qo'yishingiz kerak."
   ]
  },
  {
   "cell_type": "code",
   "execution_count": null,
   "metadata": {},
   "outputs": [],
   "source": [
    "def print_pascal_triangle(n):\n",
    "    \"\"\"Print the first n rows of Pascal's triangle.\"\"\"\n",
    "    pass"
   ]
  }
 ],
 "metadata": {
  "kernelspec": {
   "display_name": "Python 3",
   "language": "python",
   "name": "python3"
  },
  "language_info": {
   "codemirror_mode": {
    "name": "ipython",
    "version": 3
   },
   "file_extension": ".py",
   "mimetype": "text/x-python",
   "name": "python",
   "nbconvert_exporter": "python",
   "pygments_lexer": "ipython3",
   "version": "3.7.1"
  }
 },
 "nbformat": 4,
 "nbformat_minor": 2
}
