{
 "cells": [
  {
   "cell_type": "markdown",
   "metadata": {},
   "source": [
    "# Lab 3: Functions"
   ]
  },
  {
   "cell_type": "markdown",
   "metadata": {},
   "source": [
    "## Exploring Arguments and Parameters\n",
    "## Argument va parameterlarni o'rganib chiqish\n",
    "\n",
    "With a partner, work through the following problems.\n",
    "\n",
    "Sherigingiz bilan quyidagi mashqlarni ishlab chiqing.\n"
   ]
  },
  {
   "cell_type": "markdown",
   "metadata": {},
   "source": [
    "\n",
    "Consider the following function definition:\n",
    "\n",
    "Quyidagi funksiya definitioniga(ma'nosi, kompyuterga aytilishi)ga e'tibor bering.\n",
    "\n",
    "```Python\n",
    "def print_two(a, b):\n",
    "    print(\"Arguments: {0} and {1}\".format(a, b))\n",
    "```\n",
    "---\n",
    "\n",
    "For each of the following function calls, predict whether the call is valid or not. If it is valid, what will the output be? If it is invalid, what is the cause of the error?\n",
    "\n",
    "Quyidagi funksiya chaqirishlarining har biri uchun, shu chqirish to'g'ri yoki xatoligini tekshirib qo'ying.\n",
    "\n",
    "*Note: make your predictions **before** running the code interactively. Then check yourself!*\n",
    "\n",
    "*Eslatma: kodni ishlatib ko'rishdan natijasini taxmin qilib koring. Keying taxminingizni tekshiring*\n",
    "```Python\n",
    "# Valid or invalid?\n",
    "# to'g'rimi yoki xato\n",
    "print_two()\n",
    "print_two(4, 1)\n",
    "print_two(41)\n",
    "print_two(a=4, 1)\n",
    "print_two(4, a=1)\n",
    "print_two(4, 1, 1)\n",
    "print_two(b=4, 1)\n",
    "print_two(a=4, b=1)\n",
    "print_two(b=1, a=4)\n",
    "print_two(1, a=1)\n",
    "print_two(4, 1, b=1)\n",
    "```"
   ]
  },
  {
   "cell_type": "code",
   "execution_count": null,
   "metadata": {},
   "outputs": [],
   "source": [
    "# bitta yangi faylga yozib tekshirib ko'ring,\n",
    "# kommentariyadakgilarni ochib ishlatib ko'ring , nega ayrimlari ishlamasligini aniqlang\n",
    "def print_two(a, b):\n",
    "    print(\"Arguments: {0} and {1}\".format(a, b))\n",
    "\n",
    "# Ishlatmoqchi bo'lganingizni kommentini o'chiring!\n",
    "# print_two()\n",
    "# print_two(4, 1)\n",
    "# print_two(41)\n",
    "# print_two(a=4, 1)\n",
    "# print_two(4, a=1)\n",
    "# print_two(4, 1, 1)\n",
    "# print_two(b=4, 1)\n",
    "# print_two(a=4, b=1)\n",
    "# print_two(b=1, a=4)\n",
    "# print_two(1, a=1)\n",
    "# print_two(4, 1, b=1)"
   ]
  },
  {
   "cell_type": "markdown",
   "metadata": {},
   "source": [
    "\n",
    "Write at least two more instances of function calls, not listed above, and predict their output. Are they valid or invalid? Check your hypothesis.\n",
    "\n",
    "Tepadagidan tashqari yana 2 marta osha funksiyani chaqiring qani natijasini taxmin qila olasizmi? Bu yozganlaringiz ishlaydimmi? \n"
   ]
  },
  {
   "cell_type": "markdown",
   "metadata": {},
   "source": [
    "### Default Arguments\n",
    "\n",
    "Consider the following function definition:\n",
    "\n",
    "Quyidagi funksiya definitioniga(ma'nosi, kompyuterga aytilishi)ga e'tibor bering.\n",
    "\n",
    "---\n",
    "\n",
    "```Python\n",
    "def keyword_args(a, b=1, c='X', d=None):\n",
    "    print(\"a:\", a)\n",
    "    print(\"b:\", b)\n",
    "    print(\"c:\", c)\n",
    "    print(\"d:\", d)\n",
    "```\n",
    "\n",
    "For each of the following function calls, predict whether the call is valid or not. If it is valid, what will the output be? If it is invalid, what is the cause of the error?\n",
    "\n",
    "Quyidagi funksiya chaqirishlarining har biri uchun, shu chqirish to'g'ri yoki xatoligini tekshirib qo'ying. Xato chiqsa sababinianiqlang.\n",
    "\n",
    "---\n",
    "```Python\n",
    "keyword_args(5)\n",
    "keyword_args(a=5)\n",
    "keyword_args(5, 8)\n",
    "keyword_args(5, 2, c=4)\n",
    "keyword_args(5, 0, 1)\n",
    "keyword_args(5, 2, d=8, c=4)\n",
    "keyword_args(5, 2, 0, 1, \"\")\n",
    "keyword_args(c=7, 1)\n",
    "keyword_args(c=7, a=1)\n",
    "keyword_args(5, 2, [], 5)\n",
    "keyword_args(1, 7, e=6)\n",
    "keyword_args(1, c=7)\n",
    "keyword_args(5, 2, b=4)\n",
    "```"
   ]
  },
  {
   "cell_type": "code",
   "execution_count": null,
   "metadata": {},
   "outputs": [],
   "source": [
    "# Before running me, predict which of these calls will be invalid and which will be valid!\n",
    "# For valid calls, what is the output?\n",
    "# For invalid calls, why is it invalid?\n",
    "def keyword_args(a, b=1, c='X', d=None):\n",
    "    print(\"a:\", a)\n",
    "    print(\"b:\", b)\n",
    "    print(\"c:\", c)\n",
    "    print(\"d:\", d)\n",
    "    \n",
    "# Ishlatmoqchi bo'lganingizni kommentini o'chiring!\n",
    "# keyword_args(5)\n",
    "# keyword_args(a=5)\n",
    "# keyword_args(5, 8)\n",
    "# keyword_args(5, 2, c=4)\n",
    "# keyword_args(5, 0, 1)\n",
    "# keyword_args(5, 2, d=8, c=4)\n",
    "# keyword_args(5, 2, 0, 1, \"\")\n",
    "# keyword_args(c=7, 1)\n",
    "# keyword_args(c=7, a=1)\n",
    "# keyword_args(5, 2, [], 5)\n",
    "# keyword_args(1, 7, e=6)\n",
    "# keyword_args(1, c=7)\n",
    "# keyword_args(5, 2, b=4)"
   ]
  },
  {
   "cell_type": "markdown",
   "metadata": {},
   "source": [
    "Write at least two more instances of function calls, not listed above, and predict their output. Are they valid or invalid?\n",
    "\n",
    "Tepadagidan tashqari yana 2 marta osha funksiyani chaqiring qani natijasini taxmin qila olasizmi? Bu yozganlaringiz ishlaydimmi? "
   ]
  },
  {
   "cell_type": "markdown",
   "metadata": {},
   "source": [
    "### Exploring Variadic Argument lists\n",
    "As before, consider the following function definition: \n",
    "\n",
    "```Python\n",
    "def variadic(*args, **kwargs):\n",
    "    print(\"Positional:\", args)\n",
    "    print(\"Keyword:\", kwargs)\n",
    "```\n",
    "\n",
    "For each of the following function calls, predict whether the call is valid or not. If it is valid, what will the output be? If it is invalid, what is the cause of the error?\n",
    "Quyidagi funksiya chaqirishlarining har biri uchun, shu chqirish to'g'ri yoki xatoligini tekshirib qo'ying. Xato chiqsa sababini aniqlang.\n",
    "\n",
    "```Python\n",
    "variadic(2, 3, 5, 7)\n",
    "variadic(1, 1, n=1)\n",
    "variadic(n=1, 2, 3)\n",
    "variadic()\n",
    "variadic(cs=\"Computer Science\", pd=\"Product Design\")\n",
    "variadic(cs=\"Computer Science\", cs=\"CompSci\", cs=\"CS\")\n",
    "variadic(5, 8, k=1, swap=2)\n",
    "variadic(8, *[3, 4, 5], k=1, **{'a':5, 'b':'x'})\n",
    "variadic(*[8, 3], *[4, 5], k=1, **{'a':5, 'b':'x'})\n",
    "variadic(*[3, 4, 5], 8, *(4, 1), k=1, **{'a':5, 'b':'x'})\n",
    "variadic({'a':5, 'b':'x'}, *{'a':5, 'b':'x'}, **{'a':5, 'b':'x'})\n",
    "```"
   ]
  },
  {
   "cell_type": "markdown",
   "metadata": {},
   "source": [
    "### *Optional: Putting it all together*\n",
    "\n",
    "\n",
    "Often, however, we don't just see keyword arguments of variadic parameter lists in isolated situations. The following function definition, which incorporates positional parameters, keyword parameters, variadic positional parameters, keyword-only default parameters and variadic keyword parameters, is valid Python code. \n",
    "\n",
    "Quyidagi funksiyada positional parameterlar,keyword parameterlar, o'zfgaruvchi positional parameterlar(\\*nums), faqat-keyword li default parameterlar va o'zgaruvchi keyword parameterlar(\\**options) berilgan\n",
    "\n",
    "```Python\n",
    "def all_together(x, y, z=1, *nums, indent=True, spaces=4, **options):\n",
    "    print(\"x:\", x)\n",
    "    print(\"y:\", y)\n",
    "    print(\"z:\", z)\n",
    "    print(\"nums:\", nums)\n",
    "    print(\"indent:\", indent)\n",
    "    print(\"spaces:\", spaces)\n",
    "    print(\"options:\", options)\n",
    "```\n",
    "\n",
    "For each of the following function calls, predict whether the call is valid or not. If it is valid, what will the output be? If it is invalid, what is the cause of the error?\n",
    "\n",
    "Quyidagi funksiya chaqirishlarining har biri uchun, shu chqirish to'g'ri yoki xatoligini tekshirib qo'ying. Xato chiqsa sababini aniqlang.\n",
    "\n",
    "---\n",
    "\n",
    "```Python\n",
    "all_together(2)\n",
    "all_together(2, 5, 7, 8, indent=False)\n",
    "all_together(2, 5, 7, 6, indent=None)\n",
    "all_together()\n",
    "all_together(indent=True, 3, 4, 5)\n",
    "all_together(**{'indent': False}, scope='maximum')\n",
    "all_together(dict(x=0, y=1), *range(10))\n",
    "all_together(**dict(x=0, y=1), *range(10))\n",
    "all_together(*range(10), **dict(x=0, y=1))\n",
    "all_together([1, 2], {3:4})\n",
    "all_together(8, 9, 10, *[2, 4, 6], x=7, spaces=0, **{'a':5, 'b':'x'})\n",
    "all_together(8, 9, 10, *[2, 4, 6], spaces=0, **{'a':[4,5], 'b':'x'})\n",
    "all_together(8, 9, *[2, 4, 6], *dict(z=1), spaces=0, **{'a':[4,5], 'b':'x'})\n",
    "```"
   ]
  },
  {
   "cell_type": "markdown",
   "metadata": {},
   "source": [
    "## Writing Functions"
   ]
  },
  {
   "cell_type": "markdown",
   "metadata": {},
   "source": [
    "### `speak_excitedly`\n",
    "Write a function `speak_excitedly` that accepts one required positional argument (a message) and two optional keyword arguments, the first of which is a positive integer referring to the number of exclamation marks to put at the end of the message (defaulting to `1`), and the second of which is a boolean flag indicating whether or not to capitalize the message (defaulting to `False`).\n",
    "\n",
    "`speak_excitedly` funksiyasini yozing, bitta required positional argument va 2 ta optional keyword argument(1-si undov belgilari soni, default qiymati 1, 2-si boolean argument, kiritilgan text katta lashtirish kerakligi ni bildiradigan , defaulti false) bolsin.\n",
    "\n",
    "---\n",
    "\n",
    "What would the function signature and implementation look like for this function?\n",
    "\n",
    "Bu funksiyani definitioni qanaqa bo'ladi?"
   ]
  },
  {
   "cell_type": "code",
   "execution_count": null,
   "metadata": {},
   "outputs": [],
   "source": [
    "def speak_excitedly(???):\n",
    "    \"\"\"Print a message, with an optional number of exclamation points and optional capitalization.\"\"\"\n",
    "    pass"
   ]
  },
  {
   "cell_type": "markdown",
   "metadata": {},
   "source": [
    "How would you call this function to produce the following outputs?\n",
    "Tepada yozgan funksiyangizdan foydalanib quyidagilarni chiqaaring\n",
    "\n",
    "```Python\n",
    "\"I love Python!\"\n",
    "\"Keyword arguments are great!!!!\"\n",
    "\"I guess Java is okay...\"\n",
    "\"LET'S GO STANFORD!!\"\n",
    "```"
   ]
  },
  {
   "cell_type": "code",
   "execution_count": null,
   "metadata": {},
   "outputs": [],
   "source": [
    "speak_excitedly(???)  # => \"I love Python!\"\n",
    "speak_excitedly(???)  # => \"Keyword arguments are great!!!!\"\n",
    "speak_excitedly(???)  # => \"I guess Java is okay...\"\n",
    "speak_excitedly(???)  # => \"LET'S GO!!\""
   ]
  },
  {
   "cell_type": "markdown",
   "metadata": {},
   "source": [
    "### `average`\n",
    "Write a function `average` that accepts a variable number of integer positional arguments and computes the average. If no arguments are supplied, the function should return `None`.\n",
    "\n",
    "`average` funksiyasini yozing,bir necha integer positional argument  oladigan va ularning o'rtachasini chiqaradigan. agar hech nima berilmasa `None` deb qaytarsin \n",
    "\n",
    "---\n",
    "\n",
    "\n",
    "What would the function signature and implementation look like for this function?\n",
    "\n",
    "Bu funksiyani definitioni qanaqa bo'ladi?"
   ]
  },
  {
   "cell_type": "code",
   "execution_count": null,
   "metadata": {},
   "outputs": [],
   "source": [
    "def average(???):\n",
    "    \"\"\"Return the average of numeric arguments or None if no arguments are supplied.\"\"\"\n",
    "    pass"
   ]
  },
  {
   "cell_type": "markdown",
   "metadata": {},
   "source": [
    "It should be possible to call the function as follows:\n",
    "\n",
    "quyidagicha bu funksiyani chaqirsa bo'ladimi?\n",
    "```Python\n",
    "average()  # => None\n",
    "average(5)  # => 5.0\n",
    "average(6, 8, 9, 11)  # => 8.5\n",
    "```"
   ]
  },
  {
   "cell_type": "code",
   "execution_count": null,
   "metadata": {},
   "outputs": [],
   "source": [
    "print(average())  # => None\n",
    "print(average(5))  # => 5.0\n",
    "print(average(6, 8, 9, 11))  # => 8.5"
   ]
  }
 ],
 "metadata": {
  "kernelspec": {
   "display_name": "Python 3",
   "language": "python",
   "name": "python3"
  },
  "language_info": {
   "codemirror_mode": {
    "name": "ipython",
    "version": 3
   },
   "file_extension": ".py",
   "mimetype": "text/x-python",
   "name": "python",
   "nbconvert_exporter": "python",
   "pygments_lexer": "ipython3",
   "version": "3.7.1"
  }
 },
 "nbformat": 4,
 "nbformat_minor": 2
}
