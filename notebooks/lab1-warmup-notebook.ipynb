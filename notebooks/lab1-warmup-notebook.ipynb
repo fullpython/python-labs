{
 "cells": [
  {
   "cell_type": "markdown",
   "metadata": {},
   "source": [
    "# Lab 1: Welcome to Python!"
   ]
  },
  {
   "cell_type": "markdown",
   "metadata": {},
   "source": [
    "## Goals\n",
    "Welcome to your first lab day! Labs in this course are designed to be your opportunity to experiment with Python and gain hands-on experience with the language.\n",
    "\n",
    "Birinchi Lab(Laboratoriya) kuniga xush kelibsiz. Bu kursdagi *Lab* lar, python bilan experiment qilish va kerakli tajriba ga ega bo'lishingiz uchun mo'ljallangan.\n",
    "\n",
    "---\n",
    "\n",
    "The primary goal of this lab is to ensure that your Python installation process went smoothly, and that there are no lingering Python 2/3 bugs floating around.\n",
    "\n",
    "Bu Labning asosiy vazifasi python dasturining o'rnatish jarayoni bir tekisda ketishiga va Python 2/3 *bug* lar atrofda davom etib yurmasligi  amin bo'lish.\n",
    " \n",
    "---\n",
    "\n",
    "\n",
    "This lab also gives you the chance to write what might be your first programs in Python and allows you to experiment with both scripts and with the interactive interpreter!\n",
    "\n",
    "Bu lab sizga sizning python dagi birinchi dasturingizni yozishga imkoniyat ham beradi va sizga ham **interaktiv interpreter va script** larni experiment qilishingizga imkon beradi.\n",
    "\n",
    "---\n",
    "\n",
    "These problems are not intended to be algorithmically challenging - just ways to flex your new Python 3 muscles. Even if the problems seem simple, work through them quickly, and then you're free to go.\n",
    "\n",
    "Bu mashqlar algoritmik sinov tariqasida nazarda tutilmagan - aksincha, shunchaki sizning yangi Python 3  muskullaringizni toblash uchundir.\n",
    "\n",
    "---\n",
    "\n",
    "As always, have fun, and enjoy the (remainder of the) class period!\n",
    "\n",
    "Har doimgidek, qolgan kurs davomidan zavqlaning!"
   ]
  },
  {
   "cell_type": "markdown",
   "metadata": {},
   "source": [
    "## Zen of Python\n",
    "\n",
    "Run the following code cell by selecting the cell and pressing Shift+Enter.\n",
    "\n",
    "Quyidagi kodni (Python IDLE da) ishlatib ko'ring va natijani tarjima qiling.\n"
   ]
  },
  {
   "cell_type": "code",
   "execution_count": 1,
   "metadata": {},
   "outputs": [
    {
     "name": "stdout",
     "output_type": "stream",
     "text": [
      "The Zen of Python, by Tim Peters\n",
      "\n",
      "Beautiful is better than ugly.\n",
      "Explicit is better than implicit.\n",
      "Simple is better than complex.\n",
      "Complex is better than complicated.\n",
      "Flat is better than nested.\n",
      "Sparse is better than dense.\n",
      "Readability counts.\n",
      "Special cases aren't special enough to break the rules.\n",
      "Although practicality beats purity.\n",
      "Errors should never pass silently.\n",
      "Unless explicitly silenced.\n",
      "In the face of ambiguity, refuse the temptation to guess.\n",
      "There should be one-- and preferably only one --obvious way to do it.\n",
      "Although that way may not be obvious at first unless you're Dutch.\n",
      "Now is better than never.\n",
      "Although never is often better than *right* now.\n",
      "If the implementation is hard to explain, it's a bad idea.\n",
      "If the implementation is easy to explain, it may be a good idea.\n",
      "Namespaces are one honking great idea -- let's do more of those!\n"
     ]
    }
   ],
   "source": [
    "import this"
   ]
  },
  {
   "cell_type": "markdown",
   "metadata": {},
   "source": [
    "## Hello World\n",
    "\n",
    "Edit the following cell so that it prints `\"Hello, world!\"` when executed.\n",
    "\n",
    "(Python IDLE) da \"Hello World\" deb chiqaring"
   ]
  },
  {
   "cell_type": "code",
   "execution_count": 1,
   "metadata": {},
   "outputs": [],
   "source": [
    "# Edit me so that I print out \"Hello, world!\" when run!"
   ]
  },
  {
   "cell_type": "markdown",
   "metadata": {},
   "source": [
    "### Fizz, Buzz, FizzBuzz!\n",
    "If we list all of the natural numbers under 41 that are a multiple of 3 or 5, we get\n",
    "\n",
    "Agar biz 41 dan kichik 3 yoki 5 ga karrali sonlarni listini tuzsak biz da quyidagi sonlar bo'ladi:\n",
    "\n",
    "\n",
    "```\n",
    " 3,  5,  6,  9, 10, 12, 15,\n",
    "18, 20, 21, 24, 25, 27, 30,\n",
    "33, 35, 36, 39, 40\n",
    "```\n",
    "\n",
    "The sum of these numbers is 408.\n",
    "\n",
    "Bu sonlar yig'indisi 408\n",
    "\n",
    "---\n",
    "\n",
    "Find the sum of all the multiples of 3 or 5 below 1001.\n",
    "\n",
    "3 yoki 5 ga karrali bo'lgan sonlar yigindisini toping. (Funksiya yarating)\n"
   ]
  },
  {
   "cell_type": "code",
   "execution_count": 2,
   "metadata": {},
   "outputs": [],
   "source": [
    "def fizzbuzz(n):\n",
    "    \"\"\"Returns the sum of all numbers < `n` divisible by 3 or 5.\n",
    "    3yoki 5 ga bo'linadigan barcha sonlar < `n` yigindisini qaytaradi.\n",
    "    \"\"\"\n",
    "    pass # bu qatorni o'chirib funksiyani to'ldiring\n",
    "\n",
    "fizzbuzz(1001)"
   ]
  },
  {
   "cell_type": "markdown",
   "metadata": {},
   "source": [
    "### Collatz Sequence\n",
    "\n",
    "\n",
    "The *Collatz sequence* is an iterative sequence defined on the positive integers by:\n",
    "\n",
    "*Collatz qatori* bu pozitiv sonlardan tashkil topgan ketma ket qator:\n",
    "\n",
    "```\n",
    "n -> n / 2    if n is even(juft) | agar n juft bo'lsa\n",
    "n -> 3n + 1   if n is odd (toq)  | agar n toq bo'lsa\n",
    "```\n",
    "---\n",
    "For example, using the rule above and starting with 13 yields the sequence:\n",
    "\n",
    "Masalan, yuqoridagi qoidadan foydalanib , 13 dan boshlasak quiydagi ketma ketlik ni topamiz\n",
    "```\n",
    "13 -> 40 -> 20 -> 10 -> 5 -> 16 -> 8 -> 4 -> 2 -> 1\n",
    "```\n",
    "\n",
    "---\n",
    "\n",
    "It can be seen that this sequence (starting at 13 and finishing at 1) contains 10 terms. Although unproven, it it hypothesized that all starting numbers finish at 1.\n",
    "\n",
    "Qator (13 dan boshlanib 1 bilan tugashini ko'rish mumkin) 10 haddan(sondan) iborat ligini ko'rish mumkin. Isbotlanmagan bo'lsada, bu barcha boshlanadigan sonlar 1 bilan tugashi haqida gipotezaga olib keladi.\n",
    "\n",
    "---\n",
    "\n",
    "What is the length of the longest chain which has a starting number under 1000?\n",
    "\n",
    "1000 dan Kichik qaysi son bilan boshlaganimizda eng uzun qatorga ega bolamiz?\n",
    "\n",
    "---\n",
    "\n",
    "**NOTE: Once the chain starts the terms are allowed to go above one thousand.\n",
    "Eslatma: ketma ketlik boshlangandan keyin har bir son 1000 dan oshib ketishi mumkin**\n"
   ]
  },
  {
   "cell_type": "code",
   "execution_count": 4,
   "metadata": {
    "collapsed": true
   },
   "outputs": [],
   "source": [
    "def collatz_len(n):\n",
    "    \"\"\"Computes the length of the Collatz sequence starting at `n`.\"\"\"\n",
    "    pass\n",
    "\n",
    "def max_collatz_len(n):\n",
    "    \"\"\"Computes the longest Collatz sequence length for starting numbers < `n`\"\"\""
   ]
  },
  {
   "cell_type": "markdown",
   "metadata": {},
   "source": [
    "### Fahrenheit-to-Celsius converter (o'zgartiruvchi)\n",
    "\n",
    "Write a program to convert degrees Fahrenheit to degrees Celcius by (1) asking the user for a number (not necessarily integral) representing the current temperature in degrees Fahrenheit, (2) converting that value into the equivalent degrees Celsius, and (3) printing the final equivalent value.\n",
    "\n",
    "Farengeyt darajani  ni Celsiy darajaga aylantirib beradigan dasturni **(1)** foydalanuvchidan ayni vaqtdagi tempraturaning Farengeyt darajasini korsatuvchi sonni so'rab(**input()**), **(2)** ushbu sonni o'ziga mos Celsiy darajaga aylantirib, **(3)** natijani print qilib yozing.\n",
    "\n",
    "\n",
    "---\n",
    "\n",
    "For example, your program should be able to emulate the following three sample runs:\n",
    "\n",
    "Masalan, sizning dasturingiz quyidagi 3 ta misoldagidek ishlashi kerak:\n",
    "```\n",
    "Temperature F? 212\n",
    "It is 100.0 degrees Celsius.\n",
    "\n",
    "Temperature F? 98.6\n",
    "It is 37.0 degrees Celsius.\n",
    "\n",
    "Temperature F? 10\n",
    "It is -12.222222222222221 degrees Celsius.\n",
    "```\n",
    "\n",
    "Eslatma , input olayotganda **int(input())** butun sonlar uchun ishlaydi, iz esa **float(input())** ni ishlatishingiz kerak\n",
    "\n"
   ]
  },
  {
   "cell_type": "code",
   "execution_count": 6,
   "metadata": {},
   "outputs": [],
   "source": [
    "def convert_fahr_to_cels(deg_fahr):\n",
    "    pass\n",
    "\n",
    "def convert():\n",
    "    #current_temp_fahr = float(input('Temperature F?'))\n",
    "    #current_temp_cels = convert_fahr_to_cels(current_temp_fahr)\n",
    "    \n",
    "    #print(current_temp_cels)\n",
    "    pass\n",
    "convert()\n",
    "\n"
   ]
  },
  {
   "cell_type": "code",
   "execution_count": null,
   "metadata": {},
   "outputs": [],
   "source": []
  }
 ],
 "metadata": {
  "kernelspec": {
   "display_name": "Python 3",
   "language": "python",
   "name": "python3"
  },
  "language_info": {
   "codemirror_mode": {
    "name": "ipython",
    "version": 3
   },
   "file_extension": ".py",
   "mimetype": "text/x-python",
   "name": "python",
   "nbconvert_exporter": "python",
   "pygments_lexer": "ipython3",
   "version": "3.7.1"
  }
 },
 "nbformat": 4,
 "nbformat_minor": 2
}
